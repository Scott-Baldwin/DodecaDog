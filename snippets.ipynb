{
 "cells": [
  {
   "cell_type": "markdown",
   "metadata": {},
   "source": [
    "File/Folder Dialogs"
   ]
  },
  {
   "cell_type": "code",
   "execution_count": 49,
   "metadata": {},
   "outputs": [],
   "source": [
    "import os\n",
    "import tkinter as tk\n",
    "from tkinter import filedialog as fd\n",
    "\n",
    "def FileFolderDialog(method='single', \n",
    "        ftypes=[], \n",
    "        IncludeAllFiles=True,\n",
    "        initdir=os.getcwd(),\n",
    "        ):\n",
    "\n",
    "    # add option for all files\n",
    "    if IncludeAllFiles: ftypes.append(('All files', '*'))\n",
    "\n",
    "    # create the root window\n",
    "    root = tk.Tk()\n",
    "    root.withdraw() # hides root window\n",
    "    \n",
    "    try:\n",
    "        if method.lower() == 'single': \n",
    "                filename = fd.askopenfilename(\n",
    "                        parent=root,\n",
    "                        title='Select a file',\n",
    "                        initialdir=initdir,\n",
    "                        filetypes=ftypes,\n",
    "                        )\n",
    "        elif method.lower() == 'multi': \n",
    "                filename = fd.askopenfilenames(\n",
    "                        parent=root,\n",
    "                        title='Select file(s)',\n",
    "                        initialdir=initdir,\n",
    "                        filetypes=ftypes,\n",
    "                        )\n",
    "        elif method.lower() == 'folder': \n",
    "                filename = fd.askdirectory(\n",
    "                        parent=root,\n",
    "                        title='Select a folder',\n",
    "                        initialdir=initdir,\n",
    "                        )\n",
    "        else: raise TypeError('method not recognized')\n",
    "        return filename\n",
    "\n",
    "    finally:\n",
    "        root.destroy()"
   ]
  },
  {
   "cell_type": "markdown",
   "metadata": {},
   "source": [
    "Tests"
   ]
  },
  {
   "cell_type": "code",
   "execution_count": 50,
   "metadata": {},
   "outputs": [
    {
     "data": {
      "text/plain": [
       "'C:/Users/super/Documents/GitHub/DodecaDog/README.md'"
      ]
     },
     "execution_count": 50,
     "metadata": {},
     "output_type": "execute_result"
    }
   ],
   "source": [
    "FileFolderDialog()\n",
    "#FileFolderDialog(method='Multi')\n",
    "#FileFolderDialog(method='FoLdEr')"
   ]
  },
  {
   "cell_type": "code",
   "execution_count": 51,
   "metadata": {},
   "outputs": [
    {
     "data": {
      "text/plain": [
       "''"
      ]
     },
     "execution_count": 51,
     "metadata": {},
     "output_type": "execute_result"
    }
   ],
   "source": [
    "ftypes = [('Inp files', '*inp'),\n",
    "        ('Text files', '*.txt'),\n",
    "        ('Excel files', '*.xlsx'),\n",
    "        ]\n",
    "FileFolderDialog(ftypes=ftypes, IncludeAllFiles=False)"
   ]
  }
 ],
 "metadata": {
  "kernelspec": {
   "display_name": "Python 3.7.6 ('base')",
   "language": "python",
   "name": "python3"
  },
  "language_info": {
   "codemirror_mode": {
    "name": "ipython",
    "version": 3
   },
   "file_extension": ".py",
   "mimetype": "text/x-python",
   "name": "python",
   "nbconvert_exporter": "python",
   "pygments_lexer": "ipython3",
   "version": "3.7.6"
  },
  "orig_nbformat": 4,
  "vscode": {
   "interpreter": {
    "hash": "57468ee44aa95dd4e25b20d5089bdc40d0474ae5901f7acf4c61317f32db0a15"
   }
  }
 },
 "nbformat": 4,
 "nbformat_minor": 2
}
